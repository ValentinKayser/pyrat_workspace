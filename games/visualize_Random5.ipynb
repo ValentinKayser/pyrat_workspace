{
 "cells": [
  {
   "cell_type": "markdown",
   "metadata": {},
   "source": [
    "<h1 style=\"background-color: gray;\n",
    "           color: black;\n",
    "           padding: 20px;\n",
    "           text-align: center;\">INFO</h1>\n",
    "\n",
    "In this script, we run player `Random5` in a maze, to visualize its behavior."
   ]
  },
  {
   "cell_type": "markdown",
   "metadata": {},
   "source": [
    "<h1 style=\"background-color: gray;\n",
    "           color: black;\n",
    "           padding: 20px;\n",
    "           text-align: center;\">IMPORTS</h1>"
   ]
  },
  {
   "cell_type": "code",
   "execution_count": 4,
   "metadata": {},
   "outputs": [],
   "source": [
    "# External imports\n",
    "import sys\n",
    "import os\n",
    "import pprint\n",
    "\n",
    "# Add needed directories to the path\n",
    "sys.path.append(os.path.join(\"..\", \"players\"))\n",
    "\n",
    "# PyRat imports\n",
    "from pyrat import Game\n",
    "from Random5 import Random5"
   ]
  },
  {
   "cell_type": "markdown",
   "metadata": {},
   "source": [
    "<h1 style=\"background-color: gray;\n",
    "           color: black;\n",
    "           padding: 20px;\n",
    "           text-align: center;\">CONSTANTS</h1>\n",
    "\n",
    "Let's configure the game with a dictionary."
   ]
  },
  {
   "cell_type": "code",
   "execution_count": 5,
   "metadata": {},
   "outputs": [],
   "source": [
    "# Customize the game elements\n",
    "CONFIG = {\"mud_percentage\": 0.0,\n",
    "          \"nb_cheese\": 1,\n",
    "          \"random_seed\": 42,\n",
    "          \"trace_length\": 1000}"
   ]
  },
  {
   "cell_type": "markdown",
   "metadata": {},
   "source": [
    "<h1 style=\"background-color: gray;\n",
    "           color: black;\n",
    "           padding: 20px;\n",
    "           text-align: center;\">RUN THE GAME</h1>"
   ]
  },
  {
   "cell_type": "markdown",
   "metadata": {},
   "source": [
    "We perform a single game with the configuration defined above."
   ]
  },
  {
   "cell_type": "code",
   "execution_count": 6,
   "metadata": {},
   "outputs": [],
   "source": [
    "# Instantiate a game with specified arguments\n",
    "game = Game(**CONFIG)\n",
    "\n",
    "# Instantiate a player and add it to the game\n",
    "player = Random5()\n",
    "game.add_player(player)\n",
    "\n",
    "# Start the game and\n",
    "stats = game.start()"
   ]
  },
  {
   "cell_type": "markdown",
   "metadata": {},
   "source": [
    "We visualize results using a pretty printer."
   ]
  },
  {
   "cell_type": "code",
   "execution_count": 7,
   "metadata": {},
   "outputs": [
    {
     "name": "stdout",
     "output_type": "stream",
     "text": [
      "{'players': {'Random5': {'actions': {'east': 15,\n",
      "                                     'error': 0,\n",
      "                                     'miss': 0,\n",
      "                                     'mud': 0,\n",
      "                                     'north': 15,\n",
      "                                     'nothing': 0,\n",
      "                                     'south': 19,\n",
      "                                     'wall': 0,\n",
      "                                     'west': 19},\n",
      "                         'preprocessing_duration': 0.0,\n",
      "                         'score': 1.0,\n",
      "                         'team': '',\n",
      "                         'turn_durations': [0.0,\n",
      "                                            0.0,\n",
      "                                            0.0,\n",
      "                                            0.0,\n",
      "                                            0.0,\n",
      "                                            0.0,\n",
      "                                            0.0,\n",
      "                                            0.0,\n",
      "                                            0.0,\n",
      "                                            0.0,\n",
      "                                            0.0,\n",
      "                                            0.0,\n",
      "                                            0.0,\n",
      "                                            0.0,\n",
      "                                            0.0,\n",
      "                                            0.0,\n",
      "                                            0.0,\n",
      "                                            0.0,\n",
      "                                            0.0,\n",
      "                                            0.0,\n",
      "                                            0.0,\n",
      "                                            0.0,\n",
      "                                            0.0,\n",
      "                                            0.0,\n",
      "                                            0.0,\n",
      "                                            0.0,\n",
      "                                            0.0,\n",
      "                                            0.0,\n",
      "                                            0.0,\n",
      "                                            0.0,\n",
      "                                            0.0,\n",
      "                                            0.0,\n",
      "                                            0.0,\n",
      "                                            0.0,\n",
      "                                            0.0,\n",
      "                                            0.0,\n",
      "                                            0.0,\n",
      "                                            0.0,\n",
      "                                            0.0,\n",
      "                                            0.0,\n",
      "                                            0.0,\n",
      "                                            0.0,\n",
      "                                            0.0,\n",
      "                                            0.0,\n",
      "                                            0.0,\n",
      "                                            0.0,\n",
      "                                            0.0,\n",
      "                                            0.0,\n",
      "                                            0.0,\n",
      "                                            0.0,\n",
      "                                            0.0,\n",
      "                                            0.0,\n",
      "                                            0.0,\n",
      "                                            0.0,\n",
      "                                            0.0,\n",
      "                                            0.0,\n",
      "                                            0.0,\n",
      "                                            0.0,\n",
      "                                            0.0,\n",
      "                                            0.0,\n",
      "                                            0.0,\n",
      "                                            0.0,\n",
      "                                            0.0,\n",
      "                                            0.0,\n",
      "                                            0.0,\n",
      "                                            0.0,\n",
      "                                            0.0,\n",
      "                                            0.0]}},\n",
      " 'turns': 68}\n"
     ]
    }
   ],
   "source": [
    "# Show statistics\n",
    "pprint.pprint(stats)\n",
    "\n"
   ]
  }
 ],
 "metadata": {
  "kernelspec": {
   "display_name": "Python 3",
   "language": "python",
   "name": "python3"
  },
  "language_info": {
   "codemirror_mode": {
    "name": "ipython",
    "version": 3
   },
   "file_extension": ".py",
   "mimetype": "text/x-python",
   "name": "python",
   "nbconvert_exporter": "python",
   "pygments_lexer": "ipython3",
   "version": "3.10.11"
  }
 },
 "nbformat": 4,
 "nbformat_minor": 2
}
