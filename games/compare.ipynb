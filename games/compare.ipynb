{
 "cells": [
  {
   "cell_type": "markdown",
   "metadata": {},
   "source": [
    "<h1 style=\"background-color: gray;\n",
    "           color: black;\n",
    "           padding: 20px;\n",
    "           text-align: center;\">INFO</h1>\n",
    "\n",
    "This script creates a sample game, in which two players compete in the maze."
   ]
  },
  {
   "cell_type": "markdown",
   "metadata": {},
   "source": [
    "<h1 style=\"background-color: gray;\n",
    "           color: black;\n",
    "           padding: 20px;\n",
    "           text-align: center;\">IMPORTS</h1>"
   ]
  },
  {
   "cell_type": "code",
   "execution_count": 1,
   "metadata": {},
   "outputs": [],
   "source": [
    "# External imports\n",
    "import sys\n",
    "import os\n",
    "import pprint\n",
    "import matplotlib.pyplot as plt\n",
    "\n",
    "# Add needed directories to the path\n",
    "sys.path.append(os.path.join(\"..\", \"players\"))\n",
    "\n",
    "# PyRat imports\n",
    "from pyrat import Game, PlayerSkin, StartingLocation, GameMode\n",
    "from Tief_each_Cheese import Tief_each_Cheese\n",
    "from Tief import Tief\n",
    "from GreedyEachTurn import GreedyEachTurn"
   ]
  },
  {
   "cell_type": "code",
   "execution_count": null,
   "metadata": {},
   "outputs": [],
   "source": []
  },
  {
   "cell_type": "markdown",
   "metadata": {},
   "source": [
    "<h1 style=\"background-color: gray;\n",
    "           color: black;\n",
    "           padding: 20px;\n",
    "           text-align: center;\">CONSTANTS</h1>\n",
    "\n",
    "Let's configure the game with a dictionary."
   ]
  },
  {
   "cell_type": "code",
   "execution_count": 2,
   "metadata": {},
   "outputs": [],
   "source": [
    "# Customize the game elements\n",
    "CONFIG = {\"mud_percentage\": 20.0,\n",
    "          \"cell_percentage\": 80.0,\n",
    "          \"wall_percentage\": 60.0,\n",
    "          \"maze_width\": 25,\n",
    "          \"maze_height\": 20,\n",
    "          \"nb_cheese\": 9,\n",
    "          \"trace_length\": 50,\n",
    "          \"game_mode\":GameMode.SIMULATION}"
   ]
  },
  {
   "cell_type": "markdown",
   "metadata": {},
   "source": [
    "<h1 style=\"background-color: gray;\n",
    "           color: black;\n",
    "           padding: 20px;\n",
    "           text-align: center;\">RUN THE GAME</h1>"
   ]
  },
  {
   "cell_type": "markdown",
   "metadata": {},
   "source": [
    "We perform a single game with the configuration defined above."
   ]
  },
  {
   "cell_type": "code",
   "execution_count": 3,
   "metadata": {},
   "outputs": [
    {
     "name": "stdout",
     "output_type": "stream",
     "text": [
      "Constructor\n",
      "Constructor\n",
      "Preprocessing\n",
      "Preprocessing\n",
      "Postprocessing\n",
      "Postprocessing\n",
      "Constructor\n",
      "Constructor\n",
      "Preprocessing\n",
      "Preprocessing\n",
      "Postprocessing\n",
      "Postprocessing\n",
      "Constructor\n",
      "Constructor\n",
      "Preprocessing\n",
      "Preprocessing\n",
      "Postprocessing\n",
      "Postprocessing\n",
      "Constructor\n",
      "Constructor\n",
      "Preprocessing\n",
      "Preprocessing\n",
      "Postprocessing\n",
      "Postprocessing\n",
      "Constructor\n",
      "Constructor\n",
      "Preprocessing\n",
      "Preprocessing\n",
      "Postprocessing\n",
      "Postprocessing\n",
      "Constructor\n",
      "Constructor\n",
      "Preprocessing\n",
      "Preprocessing\n",
      "Postprocessing\n",
      "Postprocessing\n",
      "Constructor\n",
      "Constructor\n",
      "Preprocessing\n",
      "Preprocessing\n",
      "Postprocessing\n",
      "Postprocessing\n",
      "Constructor\n",
      "Constructor\n",
      "Preprocessing\n",
      "Preprocessing\n",
      "Postprocessing\n",
      "Postprocessing\n",
      "Constructor\n",
      "Constructor\n",
      "Preprocessing\n",
      "Preprocessing\n",
      "Postprocessing\n",
      "Postprocessing\n",
      "Constructor\n",
      "Constructor\n",
      "Preprocessing\n",
      "Preprocessing\n",
      "Postprocessing\n",
      "Postprocessing\n",
      "Constructor\n",
      "Constructor\n",
      "Preprocessing\n",
      "Preprocessing\n",
      "Postprocessing\n",
      "Postprocessing\n",
      "Constructor\n",
      "Constructor\n",
      "Preprocessing\n",
      "Preprocessing\n",
      "Postprocessing\n",
      "Postprocessing\n",
      "Constructor\n",
      "Constructor\n",
      "Preprocessing\n",
      "Preprocessing\n",
      "Postprocessing\n",
      "Postprocessing\n",
      "Constructor\n",
      "Constructor\n",
      "Preprocessing\n",
      "Preprocessing\n",
      "Postprocessing\n",
      "Postprocessing\n",
      "Constructor\n",
      "Constructor\n",
      "Preprocessing\n",
      "Preprocessing\n",
      "Postprocessing\n",
      "Postprocessing\n",
      "Constructor\n",
      "Constructor\n",
      "Preprocessing\n",
      "Preprocessing\n",
      "Postprocessing\n",
      "Postprocessing\n",
      "Constructor\n",
      "Constructor\n",
      "Preprocessing\n",
      "Preprocessing\n",
      "Postprocessing\n",
      "Postprocessing\n",
      "Constructor\n",
      "Constructor\n",
      "Preprocessing\n",
      "Preprocessing\n",
      "Postprocessing\n",
      "Postprocessing\n",
      "Constructor\n",
      "Constructor\n",
      "Preprocessing\n",
      "Preprocessing\n",
      "Postprocessing\n",
      "Postprocessing\n",
      "Constructor\n",
      "Constructor\n",
      "Preprocessing\n",
      "Preprocessing\n",
      "Postprocessing\n",
      "Postprocessing\n",
      "69.0 82.0\n"
     ]
    }
   ],
   "source": [
    "\n",
    "win_a = 0\n",
    "win_b = 0\n",
    "fromage_a = []\n",
    "fromage_b = []\n",
    "nb = 20\n",
    "tour = [i+1 for i in range(nb)]\n",
    "\n",
    "\n",
    "for i in range(nb):\n",
    "    # Instantiate a game with specified arguments\n",
    "    game = Game(**CONFIG)\n",
    "\n",
    "    # Instantiate players in distinct teams\n",
    "    player_1 = Tief_each_Cheese(skin=PlayerSkin.RAT)\n",
    "    player_2 = GreedyEachTurn(skin=PlayerSkin.PYTHON)\n",
    "    game.add_player(player_1,\"Team Ratz\", location=StartingLocation.RANDOM)\n",
    "    game.add_player(player_2,\"Team Snake\", location=StartingLocation.RANDOM)\n",
    "\n",
    "\n",
    "    stats = game.start()\n",
    "\n",
    "    a = stats['players']['Tief_each_Cheese']['score']\n",
    "    b = stats['players']['GreedyEachTurn']['score']\n",
    "    fromage_a.append(a)\n",
    "    fromage_b.append(b)\n",
    "    win_a += a\n",
    "    win_b += b\n",
    "\n",
    "print(win_a, win_b)\n"
   ]
  },
  {
   "cell_type": "markdown",
   "metadata": {},
   "source": [
    "We visualize results using a pretty printer."
   ]
  },
  {
   "cell_type": "code",
   "execution_count": 4,
   "metadata": {},
   "outputs": [
    {
     "data": {
      "image/png": "[encoded data removed]",
      "text/plain": [
       "<Figure size 640x480 with 1 Axes>"
      ]
     },
     "metadata": {},
     "output_type": "display_data"
    }
   ],
   "source": [
    "plt.figure()\n",
    "plt.plot(tour, fromage_a, '.', label = \"Team Ratz\")\n",
    "plt.plot(tour, fromage_b,'.', label = \"Team Snake\")\n",
    "plt.xlabel('Tour')\n",
    "plt.show()"
   ]
  }
 ],
 "metadata": {
  "kernelspec": {
   "display_name": "Python 3",
   "language": "python",
   "name": "python3"
  },
  "language_info": {
   "codemirror_mode": {
    "name": "ipython",
    "version": 3
   },
   "file_extension": ".py",
   "mimetype": "text/x-python",
   "name": "python",
   "nbconvert_exporter": "python",
   "pygments_lexer": "ipython3",
   "version": "3.10.11"
  }
 },
 "nbformat": 4,
 "nbformat_minor": 2
}
