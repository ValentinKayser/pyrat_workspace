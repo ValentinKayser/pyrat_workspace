{
 "cells": [
  {
   "cell_type": "markdown",
   "metadata": {},
   "source": [
    "<h1 style=\"background-color: gray;\n",
    "           color: black;\n",
    "           padding: 20px;\n",
    "           text-align: center;\">INFO</h1>\n",
    "\n",
    "In this script, we create a class that will structure the unit tests for the `Backtracking` player. \\\n",
    "We choose to use the `unittest` library. \\\n",
    "Then, we run them to ensure that all methods developed work as expected."
   ]
  },
  {
   "cell_type": "markdown",
   "metadata": {},
   "source": [
    "<h1 style=\"background-color: gray;\n",
    "           color: black;\n",
    "           padding: 20px;\n",
    "           text-align: center;\">IMPORTS</h1>"
   ]
  },
  {
   "cell_type": "code",
   "execution_count": 7,
   "metadata": {},
   "outputs": [],
   "source": [
    "# External imports\n",
    "from typing import *\n",
    "from typing_extensions import *\n",
    "from numbers import *\n",
    "import unittest\n",
    "import sys\n",
    "import os\n",
    "import random\n",
    "\n",
    "\n",
    "# Add needed directories to the path\n",
    "sys.path.append(os.path.join(\"..\", \"players\"))\n",
    "\n",
    "# PyRat imports\n",
    "from Backtracking import Backtracking\n",
    "from pyrat import BigHolesRandomMaze, Action"
   ]
  },
  {
   "cell_type": "markdown",
   "metadata": {},
   "source": [
    "<h1 style=\"background-color: gray;\n",
    "           color: black;\n",
    "           padding: 20px;\n",
    "           text-align: center;\">DEFINE THE TESTS</h1>\n",
    "\n",
    "The `unittest` library requires the creation of a class that extends `unittest.TestCase`. \\\n",
    "For each method to test, we need to define a method in the test class. \\\n",
    "Each of these test methods should call the tested method with various inputs to check that produced outputs match expected ones."
   ]
  },
  {
   "cell_type": "code",
   "execution_count": 8,
   "metadata": {},
   "outputs": [],
   "source": [
    "class Backtrackingtest (unittest.TestCase):\n",
    "\n",
    "    \"\"\"\"\n",
    "        This class tests the methods of the Backtracking class.\n",
    "        For each method, we test it with a few different configurations.\n",
    "    \"\"\"\n",
    "\n",
    "    #############################################################################################################################################\n",
    "    #                                                                 UNIT TESTS                                                                #\n",
    "    #############################################################################################################################################\n",
    "\n",
    "    def test_backtracking_path_finding(self):\n",
    "        \"\"\"\n",
    "        Tests the Backtracking algorithm for finding an optimized path from a start point\n",
    "        to multiple cheese points in a random maze.\n",
    "        Verifies the validity and optimality of the path.\n",
    "        \"\"\"\n",
    "\n",
    "        # Parameters for generated mazes\n",
    "        NB_GRAPHS = 5\n",
    "        WIDTHS = [5, 10]\n",
    "        HEIGHTS = [5, 10]\n",
    "        CELL_PERCENTAGES = [50.0, 100.0]\n",
    "        WALL_PERCENTAGES = [10.0, 50.0]\n",
    "        MUD_PERCENTAGE = 0.0\n",
    "\n",
    "        # Iterate over several random mazes\n",
    "        for i in range(NB_GRAPHS):\n",
    "            # Initialize the player\n",
    "            player = Backtracking()\n",
    "\n",
    "            # Generate a random maze\n",
    "            rng = random.Random(i)  # Fixed seed for reproducibility\n",
    "            maze = BigHolesRandomMaze(\n",
    "                width=rng.randint(WIDTHS[0], WIDTHS[1]),\n",
    "                height=rng.randint(HEIGHTS[0], HEIGHTS[1]),\n",
    "                cell_percentage=rng.uniform(CELL_PERCENTAGES[0], CELL_PERCENTAGES[1]),\n",
    "                wall_percentage=rng.uniform(WALL_PERCENTAGES[0], WALL_PERCENTAGES[1]),\n",
    "                mud_percentage=MUD_PERCENTAGE,\n",
    "                random_seed=i\n",
    "            )\n",
    "\n",
    "            # Choose a starting vertex and positions for cheese\n",
    "            start_vertex = rng.choice(maze.vertices)\n",
    "            cheese_vertices = rng.sample(maze.vertices, min(5, len(maze.vertices)))\n",
    "\n",
    "            # Generate the distance matrix\n",
    "            distance_matrix = player.distance_matrix(start_vertex, cheese_vertices, maze)\n",
    "\n",
    "            # Find the optimal path using backtracking\n",
    "            found_route = player.find_route(distance_matrix, maze, start_vertex)\n",
    "\n",
    "            # Validity checks for the found route\n",
    "            self.assertIsInstance(found_route, list)\n",
    "            self.assertTrue(len(found_route) >= 2)  # The path should contain at least two vertices\n",
    "            self.assertEqual(found_route[0], start_vertex)  # The path starts at the start vertex\n",
    "            self.assertTrue(all(v in maze.vertices for v in found_route))  # All vertices should belong to the maze\n",
    "\n",
    "            # Verify that all cheese vertices are visited\n",
    "            visited_cheese = [v for v in found_route if v in cheese_vertices]\n",
    "            self.assertEqual(set(visited_cheese), set(cheese_vertices))\n",
    "        \n"
   ]
  },
  {
   "cell_type": "markdown",
   "metadata": {},
   "source": [
    "<h1 style=\"background-color: gray;\n",
    "           color: black;\n",
    "           padding: 20px;\n",
    "           text-align: center;\">RUN THE TESTS</h1>\n",
    "           \n",
    "When calling `unittest.main()`, all methods in the test class above will be run."
   ]
  },
  {
   "cell_type": "code",
   "execution_count": 9,
   "metadata": {},
   "outputs": [
    {
     "name": "stderr",
     "output_type": "stream",
     "text": [
      "test_backtracking_path_finding (__main__.Backtrackingtest)\n",
      "Tests the Backtracking algorithm for finding an optimized path from a start point ... "
     ]
    },
    {
     "name": "stdout",
     "output_type": "stream",
     "text": [
      "Constructor\n",
      "Constructor\n",
      "Constructor\n",
      "Constructor\n"
     ]
    },
    {
     "name": "stderr",
     "output_type": "stream",
     "text": [
      "ok\n",
      "\n",
      "----------------------------------------------------------------------\n",
      "Ran 1 test in 1.276s\n",
      "\n",
      "OK\n"
     ]
    },
    {
     "name": "stdout",
     "output_type": "stream",
     "text": [
      "Constructor\n"
     ]
    }
   ],
   "source": [
    "# Run all tests\n",
    "_ = unittest.main(argv=[\"\"], verbosity=2, exit=False)\n",
    "\n"
   ]
  }
 ],
 "metadata": {
  "kernelspec": {
   "display_name": "Python 3",
   "language": "python",
   "name": "python3"
  },
  "language_info": {
   "codemirror_mode": {
    "name": "ipython",
    "version": 3
   },
   "file_extension": ".py",
   "mimetype": "text/x-python",
   "name": "python",
   "nbconvert_exporter": "python",
   "pygments_lexer": "ipython3",
   "version": "3.10.11"
  }
 },
 "nbformat": 4,
 "nbformat_minor": 2
}
