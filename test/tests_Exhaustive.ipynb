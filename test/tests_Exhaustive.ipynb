{
 "cells": [
  {
   "cell_type": "markdown",
   "metadata": {},
   "source": [
    "<h1 style=\"background-color: gray;\n",
    "           color: black;\n",
    "           padding: 20px;\n",
    "           text-align: center;\">INFO</h1>\n",
    "\n",
    "In this script, we create a class that will structure the unit tests for the `Exhaustive` player. \\\n",
    "We choose to use the `unittest` library. \\\n",
    "Then, we run them to ensure that all methods developed work as expected."
   ]
  },
  {
   "cell_type": "markdown",
   "metadata": {},
   "source": [
    "<h1 style=\"background-color: gray;\n",
    "           color: black;\n",
    "           padding: 20px;\n",
    "           text-align: center;\">IMPORTS</h1>"
   ]
  },
  {
   "cell_type": "code",
   "execution_count": 13,
   "metadata": {},
   "outputs": [],
   "source": [
    "# External imports\n",
    "from typing import *\n",
    "from typing_extensions import *\n",
    "from numbers import *\n",
    "import unittest\n",
    "import sys\n",
    "import os\n",
    "import random\n",
    "\n",
    "\n",
    "# Add needed directories to the path\n",
    "sys.path.append(os.path.join(\"..\", \"players\"))\n",
    "\n",
    "# PyRat imports\n",
    "from Exhaustive import Exhaustive\n",
    "from pyrat import BigHolesRandomMaze, Action"
   ]
  },
  {
   "cell_type": "markdown",
   "metadata": {},
   "source": [
    "<h1 style=\"background-color: gray;\n",
    "           color: black;\n",
    "           padding: 20px;\n",
    "           text-align: center;\">DEFINE THE TESTS</h1>\n",
    "\n",
    "The `unittest` library requires the creation of a class that extends `unittest.TestCase`. \\\n",
    "For each method to test, we need to define a method in the test class. \\\n",
    "Each of these test methods should call the tested method with various inputs to check that produced outputs match expected ones."
   ]
  },
  {
   "cell_type": "code",
   "execution_count": null,
   "metadata": {},
   "outputs": [],
   "source": [
    "class Exhaustivetest (unittest.TestCase):\n",
    "\n",
    "    \"\"\"\n",
    "        This class tests the methods of the DFS class.\n",
    "        For each method, we test it with a few different configurations.\n",
    "    \"\"\"\n",
    "\n",
    "    #############################################################################################################################################\n",
    "    #                                                                 UNIT TESTS                                                                #\n",
    "    #############################################################################################################################################\n",
    "\n",
    "    def test_exhaustive_path_finding(self):\n",
    "        \"\"\"\n",
    "        Teste l'algorithme exhaustive pour trouver un chemin optimisé entre un point de départ\n",
    "        et plusieurs points de fromage dans un labyrinthe aléatoire.\n",
    "        Vérifie la validité et l'optimalité du chemin.\n",
    "        \"\"\"\n",
    "\n",
    "        # Paramètres pour les labyrinthes générés\n",
    "        NB_GRAPHS = 5\n",
    "        WIDTHS = [5, 10]\n",
    "        HEIGHTS = [5, 10]\n",
    "        CELL_PERCENTAGES = [50.0, 100.0]\n",
    "        WALL_PERCENTAGES = [10.0, 50.0]\n",
    "        MUD_PERCENTAGE = 0.0\n",
    "\n",
    "        # Itération sur plusieurs graphes aléatoires\n",
    "        for i in range(NB_GRAPHS):\n",
    "            # Initialiser l'algorithme\n",
    "            player = Exhaustive()\n",
    "\n",
    "            # Générer un labyrinthe aléatoire\n",
    "            rng = random.Random(i)  # Graine fixe pour reproductibilité\n",
    "            maze = BigHolesRandomMaze(\n",
    "                width=rng.randint(WIDTHS[0], WIDTHS[1]),\n",
    "                height=rng.randint(HEIGHTS[0], HEIGHTS[1]),\n",
    "                cell_percentage=rng.uniform(CELL_PERCENTAGES[0], CELL_PERCENTAGES[1]),\n",
    "                wall_percentage=rng.uniform(WALL_PERCENTAGES[0], WALL_PERCENTAGES[1]),\n",
    "                mud_percentage=MUD_PERCENTAGE,\n",
    "                random_seed=i\n",
    "            )\n",
    "\n",
    "            # Choisir un sommet de départ et des positions pour le fromage\n",
    "            start_vertex = rng.choice(maze.vertices)\n",
    "            cheese_vertices = rng.sample(maze.vertices, min(5, len(maze.vertices)))\n",
    "\n",
    "            # Générer la matrice des distances\n",
    "            distance_matrix = player.distance_matrix(start_vertex, cheese_vertices, maze)\n",
    "\n",
    "            # Trouver le chemin optimal avec exhaustive\n",
    "            found_route = player.find_route(distance_matrix, maze, start_vertex)\n",
    "\n",
    "            # Vérifications de la validité du chemin\n",
    "            self.assertIsInstance(found_route, list)\n",
    "            self.assertTrue(len(found_route) >= 2)  # Le chemin doit contenir au moins deux sommets\n",
    "            self.assertEqual(found_route[0], start_vertex)  # Le chemin commence au point de départ\n",
    "            self.assertTrue(all(v in maze.vertices for v in found_route))  # Tous les sommets doivent appartenir au labyrinthe\n",
    "\n",
    "            # Vérifier que le fromage est visité\n",
    "            visited_cheese = [v for v in found_route if v in cheese_vertices]\n",
    "            self.assertEqual(set(visited_cheese), set(cheese_vertices))\n",
    "\n",
    "        \n"
   ]
  },
  {
   "cell_type": "markdown",
   "metadata": {},
   "source": [
    "<h1 style=\"background-color: gray;\n",
    "           color: black;\n",
    "           padding: 20px;\n",
    "           text-align: center;\">RUN THE TESTS</h1>\n",
    "           \n",
    "When calling `unittest.main()`, all methods in the test class above will be run."
   ]
  },
  {
   "cell_type": "code",
   "execution_count": 15,
   "metadata": {},
   "outputs": [
    {
     "name": "stderr",
     "output_type": "stream",
     "text": [
      "test_exhaustive_path_finding (__main__.Exhaustivetest)\n",
      "Teste l'algorithme exhaustive pour trouver un chemin optimisé entre un point de départ ... ERROR\n",
      "\n",
      "======================================================================\n",
      "ERROR: test_exhaustive_path_finding (__main__.Exhaustivetest)\n",
      "Teste l'algorithme exhaustive pour trouver un chemin optimisé entre un point de départ\n",
      "----------------------------------------------------------------------\n",
      "Traceback (most recent call last):\n",
      "  File \"C:\\Users\\Valentin Kayser\\AppData\\Local\\Temp\\ipykernel_16580\\3216490797.py\", line 34, in test_exhaustive_path_finding\n",
      "    maze = BigHolesRandomMaze(\n",
      "  File \"C:\\Users\\Valentin Kayser\\AppData\\Local\\Packages\\PythonSoftwareFoundation.Python.3.10_qbz5n2kfra8p0\\LocalCache\\local-packages\\Python310\\site-packages\\pyrat\\src\\BigHolesRandomMaze.py\", line 62, in __init__\n",
      "    super().__init__(*args, **kwargs)\n",
      "  File \"C:\\Users\\Valentin Kayser\\AppData\\Local\\Packages\\PythonSoftwareFoundation.Python.3.10_qbz5n2kfra8p0\\LocalCache\\local-packages\\Python310\\site-packages\\pyrat\\src\\RandomMaze.py\", line 88, in __init__\n",
      "    assert (mud_percentage > 0.0 and len(mud_range) == 2) or mud_percentage == 0.0, \"Argument 'mud_range' must be specified if 'mud_percentage' is not 0.0\"\n",
      "TypeError: object of type 'NoneType' has no len()\n",
      "\n"
     ]
    },
    {
     "name": "stderr",
     "output_type": "stream",
     "text": [
      "----------------------------------------------------------------------\n",
      "Ran 1 test in 0.067s\n",
      "\n",
      "FAILED (errors=1)\n"
     ]
    },
    {
     "name": "stdout",
     "output_type": "stream",
     "text": [
      "Constructor\n"
     ]
    }
   ],
   "source": [
    "# Run all tests\n",
    "_ = unittest.main(argv=[\"\"], verbosity=2, exit=False)\n",
    "\n"
   ]
  }
 ],
 "metadata": {
  "kernelspec": {
   "display_name": "Python 3",
   "language": "python",
   "name": "python3"
  },
  "language_info": {
   "codemirror_mode": {
    "name": "ipython",
    "version": 3
   },
   "file_extension": ".py",
   "mimetype": "text/x-python",
   "name": "python",
   "nbconvert_exporter": "python",
   "pygments_lexer": "ipython3",
   "version": "3.10.11"
  }
 },
 "nbformat": 4,
 "nbformat_minor": 2
}
